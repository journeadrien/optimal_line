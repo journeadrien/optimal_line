{
 "cells": [
  {
   "cell_type": "code",
   "execution_count": 1,
   "id": "9f364001",
   "metadata": {},
   "outputs": [],
   "source": [
    "from optimal_line import load_all\n",
    "from pathlib import Path\n",
    "import numpy as np\n",
    "\n",
    "from optimal_line.absence import availability_calendar"
   ]
  },
  {
   "cell_type": "code",
   "execution_count": 2,
   "id": "601ca1e3",
   "metadata": {},
   "outputs": [],
   "source": [
    "DATA_DIR = Path(\"..\").resolve() / \"data\"\n",
    "DAYS = 250\n",
    "rng = np.random.default_rng(seed=123)"
   ]
  },
  {
   "cell_type": "code",
   "execution_count": 3,
   "id": "3a360313",
   "metadata": {},
   "outputs": [],
   "source": [
    "ops, emps = load_all(DATA_DIR / \"random\")"
   ]
  },
  {
   "cell_type": "code",
   "execution_count": 4,
   "id": "8e75936a",
   "metadata": {},
   "outputs": [
    {
     "name": "stdout",
     "output_type": "stream",
     "text": [
      "E_1    present  98.8% of days\n",
      "E_2    present  98.8% of days\n",
      "E_3    present  96.0% of days\n",
      "E_4    present  92.8% of days\n",
      "E_5    present  94.8% of days\n",
      "E_6    present  99.2% of days\n",
      "E_7    present  98.0% of days\n",
      "E_8    present  98.0% of days\n",
      "E_9    present  98.8% of days\n",
      "E_10   present 100.0% of days\n",
      "E_11   present  88.0% of days\n",
      "E_12   present  99.6% of days\n",
      "E_13   present  96.0% of days\n",
      "E_14   present  98.8% of days\n",
      "E_15   present  97.6% of days\n",
      "E_16   present  98.0% of days\n",
      "E_17   present  95.6% of days\n",
      "E_18   present  99.6% of days\n",
      "E_19   present  98.8% of days\n",
      "E_20   present  99.2% of days\n"
     ]
    },
    {
     "name": "stderr",
     "output_type": "stream",
     "text": [
      "/Users/adrien/Documents/optimal_line/src/optimal_line/absence.py:191: RuntimeWarning: divide by zero encountered in scalar divide\n",
      "  dt = rng.exponential(1 / haz)\n"
     ]
    }
   ],
   "source": [
    "calendars = [availability_calendar(e, DAYS, rng) for e in emps]\n",
    "\n",
    "# Simple KPI: % utilisation per employee\n",
    "for cal in calendars:\n",
    "    utilisation = cal.calendar.mean() * 100\n",
    "    print(f\"{cal.employee_id:5s}  present {utilisation:5.1f}% of days\")"
   ]
  }
 ],
 "metadata": {
  "kernelspec": {
   "display_name": "optimal_line",
   "language": "python",
   "name": "python3"
  },
  "language_info": {
   "codemirror_mode": {
    "name": "ipython",
    "version": 3
   },
   "file_extension": ".py",
   "mimetype": "text/x-python",
   "name": "python",
   "nbconvert_exporter": "python",
   "pygments_lexer": "ipython3",
   "version": "3.11.13"
  }
 },
 "nbformat": 4,
 "nbformat_minor": 5
}
